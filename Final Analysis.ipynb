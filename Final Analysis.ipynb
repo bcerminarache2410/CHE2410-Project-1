{
 "cells": [
  {
   "cell_type": "markdown",
   "id": "44125b2e",
   "metadata": {},
   "source": [
    "# Project 1 - Final Version"
   ]
  },
  {
   "cell_type": "code",
   "execution_count": 1,
   "id": "e0214539",
   "metadata": {},
   "outputs": [],
   "source": [
    "import numpy as np\n",
    "import matplotlib.pyplot as plt\n",
    "import pandas as pd"
   ]
  },
  {
   "cell_type": "code",
   "execution_count": 2,
   "id": "457525ce",
   "metadata": {},
   "outputs": [],
   "source": [
    "#Importing and formatting data into workable lists\n",
    "\n",
    "bigdat=pd.read_csv(r'us-counties-2021.csv')\n",
    "#print(dat1)\n",
    "all_counties = bigdat['county'].tolist()\n",
    "states = bigdat['state'].tolist()\n",
    "all_cases = bigdat['cases'].tolist()\n",
    "all_deaths = bigdat['deaths'].tolist()\n",
    "in_cty_list = []\n",
    "in_case_list = []\n",
    "in_death_list = []"
   ]
  },
  {
   "cell_type": "code",
   "execution_count": 3,
   "id": "3ef59806",
   "metadata": {},
   "outputs": [],
   "source": [
    "#Separating Indiana data from the rest of the states\n",
    "for i in range(len(all_counties)):\n",
    "    if states[i] == \"Indiana\":\n",
    "        in_cty_list.append(all_counties[i])\n",
    "        in_case_list.append(all_cases[i])\n",
    "        in_death_list.append(all_deaths[i])"
   ]
  },
  {
   "cell_type": "code",
   "execution_count": 4,
   "id": "1653348a",
   "metadata": {},
   "outputs": [
    {
     "name": "stdout",
     "output_type": "stream",
     "text": [
      "['Allen', 'Bartholomew', 'Boone', 'Brown', 'Carroll', 'Clark', 'Delaware', 'Elkhart', 'Floyd', 'Greene', 'Hamilton', 'Hendrick', 'Howard', 'Knox', 'Lake', 'LaPorte', 'Marion', 'Perry', 'Porter', 'Posey', 'St. Joseph', 'Shelby', 'Vanderburgh', 'Vigo', 'Wabash', 'Warrick']\n"
     ]
    }
   ],
   "source": [
    "#Reading the air pollution data by county that I created and uploaded\n",
    "mydat=pd.read_csv(r'mydat.csv')\n",
    "mycty = mydat['County'].tolist()\n",
    "mypol = mydat['O3 8-hr (ppm)'].tolist()\n",
    "mymill = mydat['Steel Mill?'].tolist()\n",
    "\n",
    "dat_cty = []\n",
    "dat_cases = []\n",
    "dat_deaths = []\n",
    "avg_cty_cases = np.zeros(len(mycty))\n",
    "avg_cty_deaths = np.zeros(len(mycty))\n",
    "print(mycty)"
   ]
  },
  {
   "cell_type": "code",
   "execution_count": 5,
   "id": "ea80181a",
   "metadata": {},
   "outputs": [],
   "source": [
    "#Averaging the deaths in 2021 and the positive cases in 2021 by county\n",
    "for i in range(len(mycty)):\n",
    "    cty_case_sum = 0.\n",
    "    cty_death_sum = 0.\n",
    "    counter = 0.\n",
    "    for j in range(len(in_cty_list)):\n",
    "        if in_cty_list[j] == mycty[i]:\n",
    "            cty_case_sum += in_case_list[j]\n",
    "            cty_death_sum += in_death_list[j]\n",
    "            counter += 1\n",
    "\n",
    "    if counter >= 1:\n",
    "        avg_cty_cases[i] = cty_case_sum/counter\n",
    "        avg_cty_deaths[i] = cty_death_sum/counter\n"
   ]
  },
  {
   "cell_type": "code",
   "execution_count": 6,
   "id": "befc2b83",
   "metadata": {},
   "outputs": [
    {
     "name": "stderr",
     "output_type": "stream",
     "text": [
      "C:\\Users\\bcerm\\AppData\\Local\\Temp/ipykernel_16324/3238211037.py:4: RuntimeWarning: invalid value encountered in double_scalars\n",
      "  deaths_per_case[i] = avg_cty_deaths[i]/avg_cty_cases[i];\n"
     ]
    }
   ],
   "source": [
    "#Creating a variable that calculates the deaths per case by county\n",
    "deaths_per_case = np.zeros(len(mycty))\n",
    "for i in range(len(avg_cty_cases)):\n",
    "    deaths_per_case[i] = avg_cty_deaths[i]/avg_cty_cases[i];\n",
    "\n",
    "#print(deaths_per_case)"
   ]
  },
  {
   "cell_type": "code",
   "execution_count": 7,
   "id": "eb9d3bb9",
   "metadata": {},
   "outputs": [],
   "source": [
    "#Organizing data into a single list of lists for analysis, excluding counties that do not have data recorded\n",
    "workable_dat = [[],[],[],[]]\n",
    "for i in range(len(mycty)):\n",
    "    for j in range(4):\n",
    "        if avg_cty_cases[i] > 0 and j==0:\n",
    "            workable_dat[j].append(mycty[i])\n",
    "        if avg_cty_cases[i] > 0 and j==1:\n",
    "            workable_dat[j].append((deaths_per_case[i])*100)\n",
    "        if avg_cty_cases[i] > 0 and j==2:\n",
    "            workable_dat[j].append(mypol[i])\n",
    "        if avg_cty_cases[i] > 0 and j==3:\n",
    "            workable_dat[j].append(mymill[i])\n"
   ]
  },
  {
   "cell_type": "markdown",
   "id": "e4c845a2",
   "metadata": {},
   "source": [
    "### I have now reformed the COVID data into a deaths per case percentage by county that has available air pollution (ozone) data from the EPA. This data is in a workable form that can be combined with my steel mill and pollution data.\n",
    "\n",
    "#### The data list is in the form of [County, Death Rate (%), 8-hr Ozone Average Concentration (PPM), Steel Mill?]"
   ]
  },
  {
   "cell_type": "code",
   "execution_count": 8,
   "id": "53786018",
   "metadata": {},
   "outputs": [
    {
     "name": "stdout",
     "output_type": "stream",
     "text": [
      "[['Allen', 'Bartholomew', 'Boone', 'Brown', 'Carroll', 'Clark', 'Delaware', 'Elkhart', 'Floyd', 'Greene', 'Hamilton', 'Howard', 'Knox', 'Lake', 'LaPorte', 'Marion', 'Perry', 'Porter', 'Posey', 'St. Joseph', 'Shelby', 'Vanderburgh', 'Vigo', 'Wabash', 'Warrick'], [1.5891433664980334, 1.7784162060852955, 1.4472881715487829, 3.5868284228769496, 1.2478915134936743, 1.4688876843965666, 1.7914684306223259, 1.5477109556777835, 2.164753627608256, 2.734332613838015, 1.1335638562768982, 2.0761518392805227, 1.9800447959391998, 1.8233593329108282, 1.7590078974676748, 1.7121862302542166, 2.0300148869485906, 1.6534509041739673, 1.1759552740907133, 1.5179736901558172, 1.6864825840749345, 1.618349482887018, 1.8744668257099675, 2.0402574554309343, 1.819236590289719], [0.065, 0.063, 0.065, 0.062, 0.066, 0.063, 0.064, 0.063, 0.064, 0.066, 0.065, 0.064, 0.069, 0.07, 0.072, 0.067, 0.064, 0.072, 0.059, 0.066, 0.065, 0.064, 0.063, 0.062, 0.066], ['Yes', 'No', 'No', 'No', 'No', 'No', 'No', 'No', 'No', 'No', 'No', 'No', 'No', 'Yes', 'No', 'No', 'No', 'Yes', 'No', 'No', 'No', 'No', 'No', 'No', 'No']]\n"
     ]
    }
   ],
   "source": [
    "print(workable_dat)"
   ]
  },
  {
   "cell_type": "code",
   "execution_count": 9,
   "id": "e49e4d68",
   "metadata": {},
   "outputs": [],
   "source": [
    "#Separating data for counties with mills into their own list of lists for the sake of plotting\n",
    "yes_mills_deathrate = [list(['a','b','c']),list([0,0,0]),list([0,0,0])]\n",
    "newcount = 0\n",
    "for i in range(len(workable_dat[0])):\n",
    "    if workable_dat[3][i] == \"Yes\":\n",
    "        yes_mills_deathrate[1][newcount] = workable_dat[1][i]\n",
    "        yes_mills_deathrate[2][newcount] = workable_dat[2][i]\n",
    "        newcount += 1\n",
    "            \n",
    "#Manually inputting county names with a steel mill\n",
    "yes_mills_deathrate[0][0] = 'Allen'\n",
    "yes_mills_deathrate[0][1] = 'Lake'\n",
    "yes_mills_deathrate[0][2] = 'Porter'"
   ]
  },
  {
   "cell_type": "code",
   "execution_count": 10,
   "id": "90fd66e1",
   "metadata": {},
   "outputs": [
    {
     "data": {
      "image/png": "[encoded data removed]",
      "text/plain": [
       "<Figure size 432x288 with 1 Axes>"
      ]
     },
     "metadata": {
      "needs_background": "light"
     },
     "output_type": "display_data"
    }
   ],
   "source": [
    "#print(yes_mills_deathrate)\n",
    "plt.plot(workable_dat[2],workable_dat[1],'ko');\n",
    "plt.plot(yes_mills_deathrate[2],yes_mills_deathrate[1],'yo');\n",
    "plt.ylabel('Deaths Per Positive Case (%)');\n",
    "plt.xlabel('8-hr Ozone Pollution, Yearly Average (PPM)');\n",
    "plt.title('Death Rate Percentage of Positive COVID Cases Versus\\n Ozone Levels by County in the State of Indiana');\n",
    "plt.legend(['Counties Without a Steel Mill','Counties With a Steel Mill']);\n",
    "plt.savefig('deathrate vs ozone - no reg.png')"
   ]
  },
  {
   "cell_type": "markdown",
   "id": "545f712c",
   "metadata": {},
   "source": [
    "## Performing a basic linear regression of the above data to determine if they are correlated"
   ]
  },
  {
   "cell_type": "code",
   "execution_count": 11,
   "id": "2355c0be",
   "metadata": {},
   "outputs": [
    {
     "name": "stdout",
     "output_type": "stream",
     "text": [
      "                            OLS Regression Results                            \n",
      "==============================================================================\n",
      "Dep. Variable:                      y   R-squared:                       0.005\n",
      "Model:                            OLS   Adj. R-squared:                 -0.038\n",
      "Method:                 Least Squares   F-statistic:                    0.1103\n",
      "Date:                Fri, 21 Oct 2022   Prob (F-statistic):              0.743\n",
      "Time:                        13:41:59   Log-Likelihood:                -17.698\n",
      "No. Observations:                  25   AIC:                             39.40\n",
      "Df Residuals:                      23   BIC:                             41.83\n",
      "Df Model:                           1                                         \n",
      "Covariance Type:            nonrobust                                         \n",
      "==============================================================================\n",
      "                 coef    std err          t      P>|t|      [0.025      0.975]\n",
      "------------------------------------------------------------------------------\n",
      "const          2.5550      2.245      1.138      0.267      -2.089       7.199\n",
      "x1           -11.4287     34.416     -0.332      0.743     -82.623      59.766\n",
      "==============================================================================\n",
      "Omnibus:                       21.221   Durbin-Watson:                   2.512\n",
      "Prob(Omnibus):                  0.000   Jarque-Bera (JB):               31.618\n",
      "Skew:                           1.745   Prob(JB):                     1.36e-07\n",
      "Kurtosis:                       7.262   Cond. No.                         337.\n",
      "==============================================================================\n",
      "\n",
      "Notes:\n",
      "[1] Standard Errors assume that the covariance matrix of the errors is correctly specified.\n"
     ]
    }
   ],
   "source": [
    "import statsmodels.api as sm\n",
    "model = sm.OLS(workable_dat[1], sm.add_constant(workable_dat[2])).fit();\n",
    "print(model.summary())"
   ]
  },
  {
   "cell_type": "markdown",
   "id": "b8855194",
   "metadata": {},
   "source": [
    "#### Looking at the P-values in the above regression analysis, we can conclude that there is not a significant linear correlation between the two data sets. I cannot reject the null hypothesis in this analysis; therefore, different analyses must be completed"
   ]
  },
  {
   "cell_type": "code",
   "execution_count": 12,
   "id": "fc50c724",
   "metadata": {},
   "outputs": [],
   "source": [
    "#Creating arbitrary variables for analysis, also using the slope and intercept calculated above\n",
    "modelx = np.linspace(np.min(workable_dat[2]),np.max(workable_dat[2]),len(workable_dat[2]));\n",
    "modely = np.zeros(len(modelx))\n",
    "model_slope = -11.43;\n",
    "model_const = 2.55;"
   ]
  },
  {
   "cell_type": "code",
   "execution_count": 13,
   "id": "079beee9",
   "metadata": {},
   "outputs": [],
   "source": [
    "for i in range(len(modely)):\n",
    "    modely[i] = model_slope*modelx[i] + model_const"
   ]
  },
  {
   "cell_type": "code",
   "execution_count": 26,
   "id": "b370edaf",
   "metadata": {},
   "outputs": [
    {
     "data": {
      "image/png": "[encoded data removed]",
      "text/plain": [
       "<Figure size 432x288 with 1 Axes>"
      ]
     },
     "metadata": {
      "needs_background": "light"
     },
     "output_type": "display_data"
    }
   ],
   "source": [
    "#Displaying the general regression performed above\n",
    "plt.plot(workable_dat[2],workable_dat[1],'ko');\n",
    "plt.plot(yes_mills_deathrate[2],yes_mills_deathrate[1],'yo');\n",
    "plt.plot(modelx,modely,'b-');\n",
    "plt.ylabel('Deaths Per Positive Case (%)');\n",
    "plt.xlabel('8-hr Ozone Pollution, Yearly Average (PPM)');\n",
    "plt.title('Death Rate Percentage of Positive COVID Cases Versus\\n Ozone Levels by County in the State of Indiana');\n",
    "plt.legend(['Counties Without a Steel Mill','Counties With a Steel Mill','Linear Regression Fit']);\n",
    "plt.savefig('deathrate vs ozone - with reg.png')"
   ]
  },
  {
   "cell_type": "markdown",
   "id": "9f9dfcf5",
   "metadata": {},
   "source": [
    "## Analyzing the above data using linear regression of groups"
   ]
  },
  {
   "cell_type": "code",
   "execution_count": 15,
   "id": "990bbd32",
   "metadata": {},
   "outputs": [],
   "source": [
    "#Grouping counties without a steel mill as 0 and with a steel mill as 1\n",
    "group = np.zeros(len(workable_dat[0]))\n",
    "\n",
    "for i in range(len(workable_dat[0])):\n",
    "    if workable_dat[3][i] == \"Yes\":\n",
    "        group[i] = 1\n",
    "         "
   ]
  },
  {
   "cell_type": "markdown",
   "id": "8058fec6",
   "metadata": {},
   "source": [
    "### I will first analyze air pollution and presence of a steel mill here"
   ]
  },
  {
   "cell_type": "code",
   "execution_count": 16,
   "id": "327e3df6",
   "metadata": {},
   "outputs": [
    {
     "name": "stdout",
     "output_type": "stream",
     "text": [
      "Our intercept is  0.06463636363636363 and our slope is 0.004363636363636368\n"
     ]
    }
   ],
   "source": [
    "#Collecting data as air pollution for each group and fitting with a linear slope\n",
    "X = np.c_[np.ones(len(workable_dat[0])),group]\n",
    "\n",
    "#Using linear algebra data from the lecture file\n",
    "from numpy.linalg import inv\n",
    "tmp = inv(np.matmul(np.transpose(X),X))\n",
    "INTERCEPT, SLOPE = tmp @ np.transpose(X) @ workable_dat[2]\n",
    "print(\"Our intercept is \",INTERCEPT, \"and our slope is\", SLOPE)\n",
    "\n",
    "plotting_temp1 = np.zeros(2)\n",
    "tempx = [0,1]\n",
    "for i in range(2):\n",
    "    plotting_temp1[i] = SLOPE*tempx[i]+INTERCEPT"
   ]
  },
  {
   "cell_type": "code",
   "execution_count": 27,
   "id": "82d92e95",
   "metadata": {},
   "outputs": [
    {
     "data": {
      "image/png": "[encoded data removed]",
      "text/plain": [
       "<Figure size 432x288 with 1 Axes>"
      ]
     },
     "metadata": {
      "needs_background": "light"
     },
     "output_type": "display_data"
    }
   ],
   "source": [
    "plt.plot(group,workable_dat[2],'ko');\n",
    "plt.plot(tempx,plotting_temp1,'b-')\n",
    "plt.ylabel('8-hr Ozone Pollution (PPM)');\n",
    "plt.legend(['0 = No mill present in county\\n1 = At least one mill present in county','Linear model fit']);\n",
    "plt.title('Linear Regression Between Presence of a\\nSteel Mill and 8-hr Ozone Concentration');\n",
    "plt.savefig('mill presence vs ozone - with reg.png')"
   ]
  },
  {
   "cell_type": "code",
   "execution_count": 18,
   "id": "6d8f3ffb",
   "metadata": {
    "scrolled": false
   },
   "outputs": [
    {
     "name": "stdout",
     "output_type": "stream",
     "text": [
      "                            OLS Regression Results                            \n",
      "==============================================================================\n",
      "Dep. Variable:                      y   R-squared:                       0.227\n",
      "Model:                            OLS   Adj. R-squared:                  0.193\n",
      "Method:                 Least Squares   F-statistic:                     6.758\n",
      "Date:                Fri, 21 Oct 2022   Prob (F-statistic):             0.0160\n",
      "Time:                        13:42:01   Log-Likelihood:                 113.18\n",
      "No. Observations:                  25   AIC:                            -222.4\n",
      "Df Residuals:                      23   BIC:                            -219.9\n",
      "Df Model:                           1                                         \n",
      "Covariance Type:            nonrobust                                         \n",
      "==============================================================================\n",
      "                 coef    std err          t      P>|t|      [0.025      0.975]\n",
      "------------------------------------------------------------------------------\n",
      "const          0.0646      0.001    111.157      0.000       0.063       0.066\n",
      "x1             0.0044      0.002      2.600      0.016       0.001       0.008\n",
      "==============================================================================\n",
      "Omnibus:                        4.219   Durbin-Watson:                   1.872\n",
      "Prob(Omnibus):                  0.121   Jarque-Bera (JB):                2.453\n",
      "Skew:                           0.526   Prob(JB):                        0.293\n",
      "Kurtosis:                       4.118   Cond. No.                         3.13\n",
      "==============================================================================\n",
      "\n",
      "Notes:\n",
      "[1] Standard Errors assume that the covariance matrix of the errors is correctly specified.\n"
     ]
    }
   ],
   "source": [
    "#Confirming by running linear regression package\n",
    "model2 = sm.OLS(workable_dat[2], sm.add_constant(group)).fit()\n",
    "\n",
    "print(model2.summary())"
   ]
  },
  {
   "cell_type": "markdown",
   "id": "7dc8e6e4",
   "metadata": {},
   "source": [
    "#### Once again observing the P-values obtained above, I can conclude that the null hypothesis may be rejected for both parameters. This means that there is a significant correlation between air pollution and presence of a steel mill when considering the above analysis.\n",
    "\n",
    "This result is somewhat intuitive as steel mills have long been attributed to major smog and air pollution contributions."
   ]
  },
  {
   "cell_type": "markdown",
   "id": "6df8fcd9",
   "metadata": {},
   "source": [
    "### I will now analyze death rate and ozone pollution in an identical manner"
   ]
  },
  {
   "cell_type": "code",
   "execution_count": 19,
   "id": "80764d80",
   "metadata": {},
   "outputs": [
    {
     "name": "stdout",
     "output_type": "stream",
     "text": [
      "Our intercept is  1.8268758652251753 and our slope is -0.13822466403089884\n"
     ]
    }
   ],
   "source": [
    "#Collecting data as air pollution for each group and fitting with a linear slope\n",
    "X = np.c_[np.ones(len(workable_dat[0])),group]\n",
    "\n",
    "#Using linear algebra data from the lecture file\n",
    "\n",
    "tmp2 = inv(np.matmul(np.transpose(X),X))\n",
    "INTERCEPT2, SLOPE2 = tmp2 @ np.transpose(X) @ workable_dat[1]\n",
    "print(\"Our intercept is \",INTERCEPT2, \"and our slope is\", SLOPE2)\n",
    "\n",
    "plotting_temp2 = np.zeros(2)\n",
    "tempx2 = [0,1]\n",
    "for i in range(2):\n",
    "    plotting_temp2[i] = SLOPE2*tempx2[i]+INTERCEPT2"
   ]
  },
  {
   "cell_type": "code",
   "execution_count": 28,
   "id": "594b609c",
   "metadata": {},
   "outputs": [
    {
     "data": {
      "image/png": "[encoded data removed]",
      "text/plain": [
       "<Figure size 432x288 with 1 Axes>"
      ]
     },
     "metadata": {
      "needs_background": "light"
     },
     "output_type": "display_data"
    }
   ],
   "source": [
    "plt.plot(group,workable_dat[1],'ko');\n",
    "plt.plot(tempx2,plotting_temp2,'b-')\n",
    "plt.ylabel('Deaths Per Positive Case (%)');\n",
    "plt.title('Linear Regression Between Presence of a\\nSteel Mill and Deaths Per Positive Case');\n",
    "plt.legend(['0 = No mill present in county\\n1 = At least one mill present in county','Linear model fit']);\n",
    "plt.savefig('mill presence vs death rate - with reg.png')"
   ]
  },
  {
   "cell_type": "code",
   "execution_count": 21,
   "id": "9757910c",
   "metadata": {
    "scrolled": false
   },
   "outputs": [
    {
     "name": "stdout",
     "output_type": "stream",
     "text": [
      "                            OLS Regression Results                            \n",
      "==============================================================================\n",
      "Dep. Variable:                      y   R-squared:                       0.008\n",
      "Model:                            OLS   Adj. R-squared:                 -0.035\n",
      "Method:                 Least Squares   F-statistic:                    0.1931\n",
      "Date:                Fri, 21 Oct 2022   Prob (F-statistic):              0.664\n",
      "Time:                        13:42:01   Log-Likelihood:                -17.653\n",
      "No. Observations:                  25   AIC:                             39.31\n",
      "Df Residuals:                      23   BIC:                             41.74\n",
      "Df Model:                           1                                         \n",
      "Covariance Type:            nonrobust                                         \n",
      "==============================================================================\n",
      "                 coef    std err          t      P>|t|      [0.025      0.975]\n",
      "------------------------------------------------------------------------------\n",
      "const          1.8269      0.109     16.764      0.000       1.601       2.052\n",
      "x1            -0.1382      0.315     -0.439      0.664      -0.789       0.513\n",
      "==============================================================================\n",
      "Omnibus:                       22.235   Durbin-Watson:                   2.565\n",
      "Prob(Omnibus):                  0.000   Jarque-Bera (JB):               34.876\n",
      "Skew:                           1.802   Prob(JB):                     2.67e-08\n",
      "Kurtosis:                       7.528   Cond. No.                         3.13\n",
      "==============================================================================\n",
      "\n",
      "Notes:\n",
      "[1] Standard Errors assume that the covariance matrix of the errors is correctly specified.\n"
     ]
    }
   ],
   "source": [
    "#Confirming by running linear regression package\n",
    "model3 = sm.OLS(workable_dat[1], sm.add_constant(group)).fit()\n",
    "\n",
    "print(model3.summary())"
   ]
  },
  {
   "cell_type": "markdown",
   "id": "1edc6d3f",
   "metadata": {},
   "source": [
    "#### The P-values in this analysis allow me to conclude that the null hypothesis cannot be rejected for the slope parameter, but it can be rejected for the intercept. However, I am forced to conclude that there is no significant linear relation between presence of a steel mill and deaths per positive case."
   ]
  },
  {
   "cell_type": "markdown",
   "id": "e1b191d7",
   "metadata": {},
   "source": [
    "## I wish to perform a regression analysis by combining the two groups into one, related equation in the form of $y = a*x_1 + b*x_2 + c*x_1*x_2 + d$\n",
    "\n",
    "Therefore, I will conduct a grouped comparison, below."
   ]
  },
  {
   "cell_type": "markdown",
   "id": "f093820a",
   "metadata": {},
   "source": [
    "The US EPA (as of 2015) defined a threshold of 0.07 PPM of ozone ground level concentrations over an 8-hour period as being the safe standard (https://www3.epa.gov/region1/airquality/avg8hr.html). Therefore, I will create a group wherein the ozone concentrations are changed to zeros if they are below the defined limit, and they are set to ones if they are at or above the defined limit. This will allow me to analyze the correlation between steel mill presence and air quality to determine how they affect death rate in each county."
   ]
  },
  {
   "cell_type": "code",
   "execution_count": 22,
   "id": "20c05b1f",
   "metadata": {},
   "outputs": [],
   "source": [
    "EPA_lim = 0.07 #Ground level PPM ozone concentration over an 8-hr average\n",
    "deathrate = workable_dat[1]\n",
    "ozone = workable_dat[2]\n",
    "x = group\n",
    "y = np.zeros(len(deathrate))\n",
    "z = np.zeros(len(deathrate))"
   ]
  },
  {
   "cell_type": "code",
   "execution_count": 23,
   "id": "74b44b37",
   "metadata": {},
   "outputs": [],
   "source": [
    "#Setting up interaction variable arrays\n",
    "for i in range(len(deathrate)):\n",
    "    if ozone[i] >= EPA_lim:\n",
    "        y[i] = 1\n",
    "    \n",
    "    z[i] = x[i]*y[i]"
   ]
  },
  {
   "cell_type": "code",
   "execution_count": 24,
   "id": "3545cbb4",
   "metadata": {},
   "outputs": [
    {
     "name": "stdout",
     "output_type": "stream",
     "text": [
      "Our intercept is  1.8301076732136274 , a is -0.2409643067155931 , b is -0.07109977574595394 , and c is  0.2203615277903156\n"
     ]
    }
   ],
   "source": [
    "#Obtaining results using linear algebra\n",
    "X = np.c_[np.ones(len(deathrate)),x,y,z]\n",
    "tmpint = inv(np.matmul(np.transpose(X),X))\n",
    "INTERCEPTint, SLOPEint1, SLOPEint2, SLOPEint3 = tmpint @ np.transpose(X) @ deathrate\n",
    "print(\"Our intercept is \",INTERCEPTint, \", a is\", SLOPEint1,\", b is\",SLOPEint2,\", and c is \",SLOPEint3)\n",
    "\n",
    "X = sm.add_constant(X)"
   ]
  },
  {
   "cell_type": "code",
   "execution_count": 25,
   "id": "253858a1",
   "metadata": {},
   "outputs": [
    {
     "name": "stdout",
     "output_type": "stream",
     "text": [
      "                            OLS Regression Results                            \n",
      "==============================================================================\n",
      "Dep. Variable:                      y   R-squared:                       0.012\n",
      "Model:                            OLS   Adj. R-squared:                 -0.130\n",
      "Method:                 Least Squares   F-statistic:                   0.08195\n",
      "Date:                Fri, 21 Oct 2022   Prob (F-statistic):              0.969\n",
      "Time:                        13:42:02   Log-Likelihood:                -17.612\n",
      "No. Observations:                  25   AIC:                             43.22\n",
      "Df Residuals:                      21   BIC:                             48.10\n",
      "Df Model:                           3                                         \n",
      "Covariance Type:            nonrobust                                         \n",
      "==============================================================================\n",
      "                 coef    std err          t      P>|t|      [0.025      0.975]\n",
      "------------------------------------------------------------------------------\n",
      "const          1.8301      0.117     15.704      0.000       1.588       2.072\n",
      "x1            -0.2410      0.547     -0.441      0.664      -1.378       0.896\n",
      "x2            -0.0711      0.547     -0.130      0.898      -1.208       1.066\n",
      "x3             0.2204      0.852      0.259      0.799      -1.552       1.993\n",
      "==============================================================================\n",
      "Omnibus:                       22.133   Durbin-Watson:                   2.565\n",
      "Prob(Omnibus):                  0.000   Jarque-Bera (JB):               34.724\n",
      "Skew:                           1.790   Prob(JB):                     2.88e-08\n",
      "Kurtosis:                       7.529   Cond. No.                         9.53\n",
      "==============================================================================\n",
      "\n",
      "Notes:\n",
      "[1] Standard Errors assume that the covariance matrix of the errors is correctly specified.\n"
     ]
    }
   ],
   "source": [
    "#Confirming by running linear regression package with multiple regressors\n",
    "model4 = sm.OLS(deathrate, X).fit()\n",
    "\n",
    "print(model4.summary())"
   ]
  },
  {
   "cell_type": "markdown",
   "id": "3018829f",
   "metadata": {},
   "source": [
    "#### The P-values in this final analysis are representative of the parameters denoted above where\n",
    "\n",
    "#### $d = const, a = x1, b = x2, c = x3$\n",
    "\n",
    "#### This model summary allows me to conclude that there is no significant interaction between presence of a steel mill, ozone levels at or above the recommended level, and the response variable, deaths per positive case. The P-values for all three parameters (excluding the intercept) prevent me from rejecting the null hypothesis which shows that there is not a significant linear relationship for this interaction."
   ]
  }
 ],
 "metadata": {
  "kernelspec": {
   "display_name": "Python 3 (ipykernel)",
   "language": "python",
   "name": "python3"
  },
  "language_info": {
   "codemirror_mode": {
    "name": "ipython",
    "version": 3
   },
   "file_extension": ".py",
   "mimetype": "text/x-python",
   "name": "python",
   "nbconvert_exporter": "python",
   "pygments_lexer": "ipython3",
   "version": "3.9.7"
  }
 },
 "nbformat": 4,
 "nbformat_minor": 5
}

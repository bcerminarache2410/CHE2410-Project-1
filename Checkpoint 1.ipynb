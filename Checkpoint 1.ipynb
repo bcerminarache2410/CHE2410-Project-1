{
 "cells": [
  {
   "cell_type": "markdown",
   "id": "4faf68de",
   "metadata": {},
   "source": [
    "# Project 1 - First Checkpoint, Gathering and Displaying Data"
   ]
  },
  {
   "cell_type": "code",
   "execution_count": 4,
   "id": "f66beb94",
   "metadata": {},
   "outputs": [],
   "source": [
    "import numpy as np\n",
    "import matplotlib.pyplot as plt\n",
    "import pandas as pd"
   ]
  },
  {
   "cell_type": "code",
   "execution_count": 19,
   "id": "f640a173",
   "metadata": {},
   "outputs": [],
   "source": [
    "bigdat=pd.read_csv(r'us-counties-2021.csv')\n",
    "#print(dat1)\n",
    "all_counties = bigdat['county'].tolist()\n",
    "states = bigdat['state'].tolist()\n",
    "all_cases = bigdat['cases'].tolist()\n",
    "all_deaths = bigdat['deaths'].tolist()\n",
    "in_cty_list = []\n",
    "in_case_list = []\n",
    "in_death_list = []"
   ]
  },
  {
   "cell_type": "code",
   "execution_count": 20,
   "id": "8db0b891",
   "metadata": {},
   "outputs": [],
   "source": [
    "for i in range(len(all_counties)):\n",
    "    if states[i] == \"Indiana\":\n",
    "        in_cty_list.append(all_counties[i])\n",
    "        in_case_list.append(all_cases[i])\n",
    "        in_death_list.append(all_deaths[i])"
   ]
  },
  {
   "cell_type": "code",
   "execution_count": 41,
   "id": "a955cc18",
   "metadata": {},
   "outputs": [
    {
     "name": "stdout",
     "output_type": "stream",
     "text": [
      "['Allen', 'Bartholomew', 'Boone', 'Brown', 'Carroll', 'Clark', 'Delaware', 'Elkhart', 'Floyd', 'Greene', 'Hamilton', 'Hendrick', 'Howard', 'Knox', 'Lake', 'LaPorte', 'Marion', 'Perry', 'Porter', 'Posey', 'St. Joseph', 'Shelby', 'Vanderburgh', 'Vigo', 'Wabash', 'Warrick']\n"
     ]
    }
   ],
   "source": [
    "mydat=pd.read_csv(r'mydat.csv')\n",
    "mycty = mydat['County'].tolist()\n",
    "mypol = mydat['O3 8-hr (ppm)'].tolist()\n",
    "mymill = mydat['Steel Mill?'].tolist()\n",
    "\n",
    "dat_cty = []\n",
    "dat_cases = []\n",
    "dat_deaths = []\n",
    "avg_cty_cases = np.zeros(len(mycty))\n",
    "avg_cty_deaths = np.zeros(len(mycty))\n",
    "print(mycty)"
   ]
  },
  {
   "cell_type": "code",
   "execution_count": 45,
   "id": "ebe4fd91",
   "metadata": {},
   "outputs": [],
   "source": [
    "for i in range(len(mycty)):\n",
    "    cty_case_sum = 0.\n",
    "    cty_death_sum = 0.\n",
    "    counter = 0.\n",
    "    for j in range(len(in_cty_list)):\n",
    "        if in_cty_list[j] == mycty[i]:\n",
    "            cty_case_sum += in_case_list[j]\n",
    "            cty_death_sum += in_death_list[j]\n",
    "            counter += 1\n",
    "    \n",
    "    if counter >= 1:\n",
    "        avg_cty_cases[i] = cty_case_sum/counter\n",
    "        avg_cty_deaths[i] = cty_death_sum/counter\n"
   ]
  },
  {
   "cell_type": "code",
   "execution_count": 56,
   "id": "0e18573b",
   "metadata": {},
   "outputs": [
    {
     "name": "stderr",
     "output_type": "stream",
     "text": [
      "C:\\Users\\bcerm\\AppData\\Local\\Temp/ipykernel_16724/3467591209.py:3: RuntimeWarning: invalid value encountered in double_scalars\n",
      "  deaths_per_case[i] = avg_cty_deaths[i]/avg_cty_cases[i];\n"
     ]
    }
   ],
   "source": [
    "deaths_per_case = np.zeros(len(mycty))\n",
    "for i in range(len(avg_cty_cases)):\n",
    "    deaths_per_case[i] = avg_cty_deaths[i]/avg_cty_cases[i];"
   ]
  },
  {
   "cell_type": "code",
   "execution_count": 60,
   "id": "c5e07585",
   "metadata": {},
   "outputs": [],
   "source": [
    "workable_dat = [[],[],[],[]]\n",
    "for i in range(len(mycty)):\n",
    "    for j in range(4):\n",
    "        if avg_cty_cases[i] > 0 and j==0:\n",
    "            workable_dat[j].append(mycty[i])\n",
    "        if avg_cty_cases[i] > 0 and j==1:\n",
    "            workable_dat[j].append((deaths_per_case[i])*100)\n",
    "        if avg_cty_cases[i] > 0 and j==2:\n",
    "            workable_dat[j].append(mypol[i])\n",
    "        if avg_cty_cases[i] > 0 and j==3:\n",
    "            workable_dat[j].append(mymill[i])\n"
   ]
  },
  {
   "cell_type": "markdown",
   "id": "9666ae21",
   "metadata": {},
   "source": [
    "### I have now reformed the COVID data into a deaths per case percentage by county that has available air pollution (ozone) data from the EPA. This data is in a workable form that can be combined with my steel mill and pollution data.\n",
    "\n",
    "#### The data list is in the form of [County, Death Rate (%), 8-hr Ozone Average Concentration (PPM), Steel Mill?]"
   ]
  },
  {
   "cell_type": "code",
   "execution_count": 61,
   "id": "699fd9f4",
   "metadata": {},
   "outputs": [
    {
     "name": "stdout",
     "output_type": "stream",
     "text": [
      "[['Allen', 'Bartholomew', 'Boone', 'Brown', 'Carroll', 'Clark', 'Delaware', 'Elkhart', 'Floyd', 'Greene', 'Hamilton', 'Howard', 'Knox', 'Lake', 'LaPorte', 'Marion', 'Perry', 'Porter', 'Posey', 'St. Joseph', 'Shelby', 'Vanderburgh', 'Vigo', 'Wabash', 'Warrick'], [1.5891433664980334, 1.7784162060852955, 1.4472881715487829, 3.5868284228769496, 1.2478915134936743, 1.4688876843965666, 1.7914684306223259, 1.5477109556777835, 2.164753627608256, 2.734332613838015, 1.1335638562768982, 2.0761518392805227, 1.9800447959391998, 1.8233593329108282, 1.7590078974676748, 1.7121862302542166, 2.0300148869485906, 1.6534509041739673, 1.1759552740907133, 1.5179736901558172, 1.6864825840749345, 1.618349482887018, 1.8744668257099675, 2.0402574554309343, 1.819236590289719], [0.065, 0.063, 0.065, 0.062, 0.066, 0.063, 0.064, 0.063, 0.064, 0.066, 0.065, 0.064, 0.069, 0.07, 0.072, 0.067, 0.064, 0.072, 0.059, 0.066, 0.065, 0.064, 0.063, 0.062, 0.066], ['Yes', 'No', 'No', 'No', 'No', 'No', 'No', 'No', 'No', 'No', 'No', 'No', 'No', 'Yes', 'No', 'No', 'No', 'Yes', 'No', 'No', 'No', 'No', 'No', 'No', 'No']]\n"
     ]
    }
   ],
   "source": [
    "print(workable_dat)"
   ]
  },
  {
   "cell_type": "code",
   "execution_count": 98,
   "id": "b7eef6a3",
   "metadata": {},
   "outputs": [],
   "source": [
    "yes_mills_deathrate = [list(['a','b','c']),list([0,0,0]),list([0,0,0])]\n",
    "newcount = 0\n",
    "for i in range(len(workable_dat[0])):\n",
    "    if workable_dat[3][i] == \"Yes\":\n",
    "        yes_mills_deathrate[1][newcount] = workable_dat[1][i]\n",
    "        yes_mills_deathrate[2][newcount] = workable_dat[2][i]\n",
    "        newcount += 1\n",
    "            \n",
    "#Manually inputting county names with a steel mill\n",
    "yes_mills_deathrate[0][0] = 'Allen'\n",
    "yes_mills_deathrate[0][1] = 'Lake'\n",
    "yes_mills_deathrate[0][2] = 'Porter'"
   ]
  },
  {
   "cell_type": "code",
   "execution_count": 109,
   "id": "dcc0041f",
   "metadata": {},
   "outputs": [
    {
     "data": {
      "image/png": "[encoded data removed]",
      "text/plain": [
       "<Figure size 432x288 with 1 Axes>"
      ]
     },
     "metadata": {
      "needs_background": "light"
     },
     "output_type": "display_data"
    }
   ],
   "source": [
    "#print(yes_mills_deathrate)\n",
    "plt.plot(workable_dat[2],workable_dat[1],'ko');\n",
    "plt.plot(yes_mills_deathrate[2],yes_mills_deathrate[1],'yo');\n",
    "plt.ylabel('Deaths per Positive Case (%)');\n",
    "plt.xlabel('8-hr Ozone Pollution, Yearly Average (PPM)');\n",
    "plt.title('Death Rate Percentage of Positive COVID Cases Versus\\n Ozone Levels by County in the State of Indiana');\n",
    "plt.legend(['Counties Without a Steel Mill','Counties With a Steel Mill']);"
   ]
  }
 ],
 "metadata": {
  "kernelspec": {
   "display_name": "Python 3 (ipykernel)",
   "language": "python",
   "name": "python3"
  },
  "language_info": {
   "codemirror_mode": {
    "name": "ipython",
    "version": 3
   },
   "file_extension": ".py",
   "mimetype": "text/x-python",
   "name": "python",
   "nbconvert_exporter": "python",
   "pygments_lexer": "ipython3",
   "version": "3.9.7"
  }
 },
 "nbformat": 4,
 "nbformat_minor": 5
}
